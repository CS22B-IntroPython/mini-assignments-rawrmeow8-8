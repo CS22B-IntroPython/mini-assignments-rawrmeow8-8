{
 "cells": [
  {
   "cell_type": "markdown",
   "metadata": {
    "id": "XXueMou6e2fW"
   },
   "source": [
    "# Data Visualization exercise"
   ]
  },
  {
   "cell_type": "code",
   "execution_count": null,
   "metadata": {
    "id": "hyL8ePRTe2fa"
   },
   "outputs": [],
   "source": [
    "# importing the package(s) we want to use\n",
    "import pandas as pd\n",
    "import seaborn as sns\n",
    "import matplotlib.pyplot as plt\n",
    "%matplotlib inline"
   ]
  },
  {
   "cell_type": "code",
   "execution_count": null,
   "metadata": {
    "id": "QXI7GiG3RA4e"
   },
   "outputs": [],
   "source": [
    "### The input file is tab-delimited\n",
    "tsv_Filepath = \"https://raw.githubusercontent.com/csbfx/advpy122-data/master/euk.tsv\"\n",
    "# we can specify the delimiter by using the sep keyword argument\n",
    "euk = pd.read_csv(tsv_Filepath, sep='\\t')"
   ]
  },
  {
   "cell_type": "code",
   "execution_count": null,
   "metadata": {
    "colab": {
     "base_uri": "https://localhost:8080/",
     "height": 206
    },
    "id": "jt0bxDd-ROGR",
    "outputId": "d471f97c-273f-4e0c-f14f-8a070a6ff6e3"
   },
   "outputs": [
    {
     "data": {
      "application/vnd.google.colaboratory.intrinsic+json": {
       "summary": "{\n  \"name\": \"euk\",\n  \"rows\": 8302,\n  \"fields\": [\n    {\n      \"column\": \"Species\",\n      \"properties\": {\n        \"dtype\": \"string\",\n        \"num_unique_values\": 4936,\n        \"samples\": [\n          \"Mrakia blollopis\",\n          \"Toxoplasma gondii TgCATBr5\",\n          \"Drosophila grimshawi\"\n        ],\n        \"semantic_type\": \"\",\n        \"description\": \"\"\n      }\n    },\n    {\n      \"column\": \"Kingdom\",\n      \"properties\": {\n        \"dtype\": \"category\",\n        \"num_unique_values\": 5,\n        \"samples\": [\n          \"Plants\",\n          \"Other\",\n          \"Fungi\"\n        ],\n        \"semantic_type\": \"\",\n        \"description\": \"\"\n      }\n    },\n    {\n      \"column\": \"Class\",\n      \"properties\": {\n        \"dtype\": \"category\",\n        \"num_unique_values\": 19,\n        \"samples\": [\n          \"Other Protists\",\n          \"Apicomplexans\",\n          \"Mammals\"\n        ],\n        \"semantic_type\": \"\",\n        \"description\": \"\"\n      }\n    },\n    {\n      \"column\": \"Size (Mb)\",\n      \"properties\": {\n        \"dtype\": \"number\",\n        \"std\": 1111.5382890873323,\n        \"min\": 0.011236,\n        \"max\": 32396.4,\n        \"num_unique_values\": 8203,\n        \"samples\": [\n          42.713,\n          4.9454,\n          43.5021\n        ],\n        \"semantic_type\": \"\",\n        \"description\": \"\"\n      }\n    },\n    {\n      \"column\": \"GC%\",\n      \"properties\": {\n        \"dtype\": \"category\",\n        \"num_unique_values\": 1857,\n        \"samples\": [\n          \"27.9\",\n          \"36.7747\",\n          \"40.1912\"\n        ],\n        \"semantic_type\": \"\",\n        \"description\": \"\"\n      }\n    },\n    {\n      \"column\": \"Number of genes\",\n      \"properties\": {\n        \"dtype\": \"category\",\n        \"num_unique_values\": 2239,\n        \"samples\": [\n          \"17642\",\n          \"40259\",\n          \"8569\"\n        ],\n        \"semantic_type\": \"\",\n        \"description\": \"\"\n      }\n    },\n    {\n      \"column\": \"Number of proteins\",\n      \"properties\": {\n        \"dtype\": \"category\",\n        \"num_unique_values\": 2214,\n        \"samples\": [\n          \"19503\",\n          \"11966\",\n          \"11491\"\n        ],\n        \"semantic_type\": \"\",\n        \"description\": \"\"\n      }\n    },\n    {\n      \"column\": \"Publication year\",\n      \"properties\": {\n        \"dtype\": \"number\",\n        \"std\": 2,\n        \"min\": 1992,\n        \"max\": 2019,\n        \"num_unique_values\": 23,\n        \"samples\": [\n          2008,\n          2003,\n          2013\n        ],\n        \"semantic_type\": \"\",\n        \"description\": \"\"\n      }\n    },\n    {\n      \"column\": \"Assembly status\",\n      \"properties\": {\n        \"dtype\": \"category\",\n        \"num_unique_values\": 4,\n        \"samples\": [\n          \"Chromosome\",\n          \"Contig\",\n          \"Scaffold\"\n        ],\n        \"semantic_type\": \"\",\n        \"description\": \"\"\n      }\n    }\n  ]\n}",
       "type": "dataframe",
       "variable_name": "euk"
      },
      "text/html": [
       "\n",
       "  <div id=\"df-876e8587-3807-4d1f-8227-eeb0d786924a\" class=\"colab-df-container\">\n",
       "    <div>\n",
       "<style scoped>\n",
       "    .dataframe tbody tr th:only-of-type {\n",
       "        vertical-align: middle;\n",
       "    }\n",
       "\n",
       "    .dataframe tbody tr th {\n",
       "        vertical-align: top;\n",
       "    }\n",
       "\n",
       "    .dataframe thead th {\n",
       "        text-align: right;\n",
       "    }\n",
       "</style>\n",
       "<table border=\"1\" class=\"dataframe\">\n",
       "  <thead>\n",
       "    <tr style=\"text-align: right;\">\n",
       "      <th></th>\n",
       "      <th>Species</th>\n",
       "      <th>Kingdom</th>\n",
       "      <th>Class</th>\n",
       "      <th>Size (Mb)</th>\n",
       "      <th>GC%</th>\n",
       "      <th>Number of genes</th>\n",
       "      <th>Number of proteins</th>\n",
       "      <th>Publication year</th>\n",
       "      <th>Assembly status</th>\n",
       "    </tr>\n",
       "  </thead>\n",
       "  <tbody>\n",
       "    <tr>\n",
       "      <th>0</th>\n",
       "      <td>Emiliania huxleyi CCMP1516</td>\n",
       "      <td>Protists</td>\n",
       "      <td>Other Protists</td>\n",
       "      <td>167.676</td>\n",
       "      <td>64.5</td>\n",
       "      <td>38549</td>\n",
       "      <td>38554</td>\n",
       "      <td>2013</td>\n",
       "      <td>Scaffold</td>\n",
       "    </tr>\n",
       "    <tr>\n",
       "      <th>1</th>\n",
       "      <td>Arabidopsis thaliana</td>\n",
       "      <td>Plants</td>\n",
       "      <td>Land Plants</td>\n",
       "      <td>119.669</td>\n",
       "      <td>36.0529</td>\n",
       "      <td>38311</td>\n",
       "      <td>48265</td>\n",
       "      <td>2001</td>\n",
       "      <td>Chromosome</td>\n",
       "    </tr>\n",
       "    <tr>\n",
       "      <th>2</th>\n",
       "      <td>Glycine max</td>\n",
       "      <td>Plants</td>\n",
       "      <td>Land Plants</td>\n",
       "      <td>979.046</td>\n",
       "      <td>35.1153</td>\n",
       "      <td>59847</td>\n",
       "      <td>71219</td>\n",
       "      <td>2010</td>\n",
       "      <td>Chromosome</td>\n",
       "    </tr>\n",
       "    <tr>\n",
       "      <th>3</th>\n",
       "      <td>Medicago truncatula</td>\n",
       "      <td>Plants</td>\n",
       "      <td>Land Plants</td>\n",
       "      <td>412.924</td>\n",
       "      <td>34.047</td>\n",
       "      <td>37603</td>\n",
       "      <td>41939</td>\n",
       "      <td>2011</td>\n",
       "      <td>Chromosome</td>\n",
       "    </tr>\n",
       "    <tr>\n",
       "      <th>4</th>\n",
       "      <td>Solanum lycopersicum</td>\n",
       "      <td>Plants</td>\n",
       "      <td>Land Plants</td>\n",
       "      <td>828.349</td>\n",
       "      <td>35.6991</td>\n",
       "      <td>31200</td>\n",
       "      <td>37660</td>\n",
       "      <td>2010</td>\n",
       "      <td>Chromosome</td>\n",
       "    </tr>\n",
       "  </tbody>\n",
       "</table>\n",
       "</div>\n",
       "    <div class=\"colab-df-buttons\">\n",
       "\n",
       "  <div class=\"colab-df-container\">\n",
       "    <button class=\"colab-df-convert\" onclick=\"convertToInteractive('df-876e8587-3807-4d1f-8227-eeb0d786924a')\"\n",
       "            title=\"Convert this dataframe to an interactive table.\"\n",
       "            style=\"display:none;\">\n",
       "\n",
       "  <svg xmlns=\"http://www.w3.org/2000/svg\" height=\"24px\" viewBox=\"0 -960 960 960\">\n",
       "    <path d=\"M120-120v-720h720v720H120Zm60-500h600v-160H180v160Zm220 220h160v-160H400v160Zm0 220h160v-160H400v160ZM180-400h160v-160H180v160Zm440 0h160v-160H620v160ZM180-180h160v-160H180v160Zm440 0h160v-160H620v160Z\"/>\n",
       "  </svg>\n",
       "    </button>\n",
       "\n",
       "  <style>\n",
       "    .colab-df-container {\n",
       "      display:flex;\n",
       "      gap: 12px;\n",
       "    }\n",
       "\n",
       "    .colab-df-convert {\n",
       "      background-color: #E8F0FE;\n",
       "      border: none;\n",
       "      border-radius: 50%;\n",
       "      cursor: pointer;\n",
       "      display: none;\n",
       "      fill: #1967D2;\n",
       "      height: 32px;\n",
       "      padding: 0 0 0 0;\n",
       "      width: 32px;\n",
       "    }\n",
       "\n",
       "    .colab-df-convert:hover {\n",
       "      background-color: #E2EBFA;\n",
       "      box-shadow: 0px 1px 2px rgba(60, 64, 67, 0.3), 0px 1px 3px 1px rgba(60, 64, 67, 0.15);\n",
       "      fill: #174EA6;\n",
       "    }\n",
       "\n",
       "    .colab-df-buttons div {\n",
       "      margin-bottom: 4px;\n",
       "    }\n",
       "\n",
       "    [theme=dark] .colab-df-convert {\n",
       "      background-color: #3B4455;\n",
       "      fill: #D2E3FC;\n",
       "    }\n",
       "\n",
       "    [theme=dark] .colab-df-convert:hover {\n",
       "      background-color: #434B5C;\n",
       "      box-shadow: 0px 1px 3px 1px rgba(0, 0, 0, 0.15);\n",
       "      filter: drop-shadow(0px 1px 2px rgba(0, 0, 0, 0.3));\n",
       "      fill: #FFFFFF;\n",
       "    }\n",
       "  </style>\n",
       "\n",
       "    <script>\n",
       "      const buttonEl =\n",
       "        document.querySelector('#df-876e8587-3807-4d1f-8227-eeb0d786924a button.colab-df-convert');\n",
       "      buttonEl.style.display =\n",
       "        google.colab.kernel.accessAllowed ? 'block' : 'none';\n",
       "\n",
       "      async function convertToInteractive(key) {\n",
       "        const element = document.querySelector('#df-876e8587-3807-4d1f-8227-eeb0d786924a');\n",
       "        const dataTable =\n",
       "          await google.colab.kernel.invokeFunction('convertToInteractive',\n",
       "                                                    [key], {});\n",
       "        if (!dataTable) return;\n",
       "\n",
       "        const docLinkHtml = 'Like what you see? Visit the ' +\n",
       "          '<a target=\"_blank\" href=https://colab.research.google.com/notebooks/data_table.ipynb>data table notebook</a>'\n",
       "          + ' to learn more about interactive tables.';\n",
       "        element.innerHTML = '';\n",
       "        dataTable['output_type'] = 'display_data';\n",
       "        await google.colab.output.renderOutput(dataTable, element);\n",
       "        const docLink = document.createElement('div');\n",
       "        docLink.innerHTML = docLinkHtml;\n",
       "        element.appendChild(docLink);\n",
       "      }\n",
       "    </script>\n",
       "  </div>\n",
       "\n",
       "\n",
       "<div id=\"df-e646ccbc-d6a8-4dfb-a1d1-3d407c67442b\">\n",
       "  <button class=\"colab-df-quickchart\" onclick=\"quickchart('df-e646ccbc-d6a8-4dfb-a1d1-3d407c67442b')\"\n",
       "            title=\"Suggest charts\"\n",
       "            style=\"display:none;\">\n",
       "\n",
       "<svg xmlns=\"http://www.w3.org/2000/svg\" height=\"24px\"viewBox=\"0 0 24 24\"\n",
       "     width=\"24px\">\n",
       "    <g>\n",
       "        <path d=\"M19 3H5c-1.1 0-2 .9-2 2v14c0 1.1.9 2 2 2h14c1.1 0 2-.9 2-2V5c0-1.1-.9-2-2-2zM9 17H7v-7h2v7zm4 0h-2V7h2v10zm4 0h-2v-4h2v4z\"/>\n",
       "    </g>\n",
       "</svg>\n",
       "  </button>\n",
       "\n",
       "<style>\n",
       "  .colab-df-quickchart {\n",
       "      --bg-color: #E8F0FE;\n",
       "      --fill-color: #1967D2;\n",
       "      --hover-bg-color: #E2EBFA;\n",
       "      --hover-fill-color: #174EA6;\n",
       "      --disabled-fill-color: #AAA;\n",
       "      --disabled-bg-color: #DDD;\n",
       "  }\n",
       "\n",
       "  [theme=dark] .colab-df-quickchart {\n",
       "      --bg-color: #3B4455;\n",
       "      --fill-color: #D2E3FC;\n",
       "      --hover-bg-color: #434B5C;\n",
       "      --hover-fill-color: #FFFFFF;\n",
       "      --disabled-bg-color: #3B4455;\n",
       "      --disabled-fill-color: #666;\n",
       "  }\n",
       "\n",
       "  .colab-df-quickchart {\n",
       "    background-color: var(--bg-color);\n",
       "    border: none;\n",
       "    border-radius: 50%;\n",
       "    cursor: pointer;\n",
       "    display: none;\n",
       "    fill: var(--fill-color);\n",
       "    height: 32px;\n",
       "    padding: 0;\n",
       "    width: 32px;\n",
       "  }\n",
       "\n",
       "  .colab-df-quickchart:hover {\n",
       "    background-color: var(--hover-bg-color);\n",
       "    box-shadow: 0 1px 2px rgba(60, 64, 67, 0.3), 0 1px 3px 1px rgba(60, 64, 67, 0.15);\n",
       "    fill: var(--button-hover-fill-color);\n",
       "  }\n",
       "\n",
       "  .colab-df-quickchart-complete:disabled,\n",
       "  .colab-df-quickchart-complete:disabled:hover {\n",
       "    background-color: var(--disabled-bg-color);\n",
       "    fill: var(--disabled-fill-color);\n",
       "    box-shadow: none;\n",
       "  }\n",
       "\n",
       "  .colab-df-spinner {\n",
       "    border: 2px solid var(--fill-color);\n",
       "    border-color: transparent;\n",
       "    border-bottom-color: var(--fill-color);\n",
       "    animation:\n",
       "      spin 1s steps(1) infinite;\n",
       "  }\n",
       "\n",
       "  @keyframes spin {\n",
       "    0% {\n",
       "      border-color: transparent;\n",
       "      border-bottom-color: var(--fill-color);\n",
       "      border-left-color: var(--fill-color);\n",
       "    }\n",
       "    20% {\n",
       "      border-color: transparent;\n",
       "      border-left-color: var(--fill-color);\n",
       "      border-top-color: var(--fill-color);\n",
       "    }\n",
       "    30% {\n",
       "      border-color: transparent;\n",
       "      border-left-color: var(--fill-color);\n",
       "      border-top-color: var(--fill-color);\n",
       "      border-right-color: var(--fill-color);\n",
       "    }\n",
       "    40% {\n",
       "      border-color: transparent;\n",
       "      border-right-color: var(--fill-color);\n",
       "      border-top-color: var(--fill-color);\n",
       "    }\n",
       "    60% {\n",
       "      border-color: transparent;\n",
       "      border-right-color: var(--fill-color);\n",
       "    }\n",
       "    80% {\n",
       "      border-color: transparent;\n",
       "      border-right-color: var(--fill-color);\n",
       "      border-bottom-color: var(--fill-color);\n",
       "    }\n",
       "    90% {\n",
       "      border-color: transparent;\n",
       "      border-bottom-color: var(--fill-color);\n",
       "    }\n",
       "  }\n",
       "</style>\n",
       "\n",
       "  <script>\n",
       "    async function quickchart(key) {\n",
       "      const quickchartButtonEl =\n",
       "        document.querySelector('#' + key + ' button');\n",
       "      quickchartButtonEl.disabled = true;  // To prevent multiple clicks.\n",
       "      quickchartButtonEl.classList.add('colab-df-spinner');\n",
       "      try {\n",
       "        const charts = await google.colab.kernel.invokeFunction(\n",
       "            'suggestCharts', [key], {});\n",
       "      } catch (error) {\n",
       "        console.error('Error during call to suggestCharts:', error);\n",
       "      }\n",
       "      quickchartButtonEl.classList.remove('colab-df-spinner');\n",
       "      quickchartButtonEl.classList.add('colab-df-quickchart-complete');\n",
       "    }\n",
       "    (() => {\n",
       "      let quickchartButtonEl =\n",
       "        document.querySelector('#df-e646ccbc-d6a8-4dfb-a1d1-3d407c67442b button');\n",
       "      quickchartButtonEl.style.display =\n",
       "        google.colab.kernel.accessAllowed ? 'block' : 'none';\n",
       "    })();\n",
       "  </script>\n",
       "</div>\n",
       "\n",
       "    </div>\n",
       "  </div>\n"
      ],
      "text/plain": [
       "                      Species   Kingdom           Class  Size (Mb)      GC%  \\\n",
       "0  Emiliania huxleyi CCMP1516  Protists  Other Protists    167.676     64.5   \n",
       "1        Arabidopsis thaliana    Plants     Land Plants    119.669  36.0529   \n",
       "2                 Glycine max    Plants     Land Plants    979.046  35.1153   \n",
       "3         Medicago truncatula    Plants     Land Plants    412.924   34.047   \n",
       "4        Solanum lycopersicum    Plants     Land Plants    828.349  35.6991   \n",
       "\n",
       "  Number of genes Number of proteins  Publication year Assembly status  \n",
       "0           38549              38554              2013        Scaffold  \n",
       "1           38311              48265              2001      Chromosome  \n",
       "2           59847              71219              2010      Chromosome  \n",
       "3           37603              41939              2011      Chromosome  \n",
       "4           31200              37660              2010      Chromosome  "
      ]
     },
     "execution_count": 9,
     "metadata": {},
     "output_type": "execute_result"
    }
   ],
   "source": [
    "### Using .head() and .tail() to see data content\n",
    "euk.head()"
   ]
  },
  {
   "cell_type": "code",
   "execution_count": null,
   "metadata": {
    "id": "-GKOt3-LRT7_"
   },
   "outputs": [],
   "source": [
    "### .info() to provide information on the data\n"
   ]
  },
  {
   "cell_type": "code",
   "execution_count": null,
   "metadata": {
    "id": "WImi4eN1RXrk"
   },
   "outputs": [],
   "source": [
    "### What to do with '-' values?\n",
    "## Change \"-\" into NAs"
   ]
  },
  {
   "cell_type": "markdown",
   "metadata": {
    "id": "IGUpoCSgSFNj"
   },
   "source": [
    "## Visualize the relationship between two variables\n",
    "\n",
    "Can you see the relationship between genome size and the number of genes?\n",
    "\n"
   ]
  },
  {
   "cell_type": "markdown",
   "metadata": {
    "id": "LLZulrBBSOn4"
   },
   "source": [
    "It is hard for us to see patterns by reading large tables of data. For example, look at the following table that contains the genome size and the number of genes for reptiles. Can you see the relationship between genome size and the number of genes?"
   ]
  },
  {
   "cell_type": "code",
   "execution_count": null,
   "metadata": {
    "id": "mridMYkCSnc7"
   },
   "outputs": [],
   "source": [
    "## Look only look at reptile data using class 'Reptiles'\n"
   ]
  },
  {
   "cell_type": "code",
   "execution_count": null,
   "metadata": {
    "id": "WpqsWKdWjxxT"
   },
   "outputs": [],
   "source": [
    "## Pick out data for just Reptiles with genome size < 4000"
   ]
  },
  {
   "cell_type": "markdown",
   "metadata": {
    "id": "6sAgJ9x7kSGA"
   },
   "source": [
    "### Use `relplot` to look at relationships\n",
    "We will use the `relplot` function, and the names of the columns that we want on the `X` and `Y` axes to look at the relationship between genome size and number of genes in Reptiles"
   ]
  },
  {
   "cell_type": "code",
   "execution_count": null,
   "metadata": {
    "id": "y3KxiFjpT0My"
   },
   "outputs": [],
   "source": [
    "### Relationship plot between genome size and number of genes in Retiles\n"
   ]
  },
  {
   "cell_type": "markdown",
   "metadata": {
    "id": "MquzHxvyVak0"
   },
   "source": [
    "### Can you create a new column to look at gene density?\n",
    "gene density = Number of genes / Size (Mb)"
   ]
  },
  {
   "cell_type": "code",
   "execution_count": null,
   "metadata": {
    "id": "izWushvwlTnq"
   },
   "outputs": [],
   "source": [
    "### Your Code\n",
    "# gene density = Number of genes / Size (Mb)\n",
    "# create the new column\n",
    "\n"
   ]
  },
  {
   "cell_type": "code",
   "execution_count": null,
   "metadata": {
    "id": "1qJhlnOclbUz"
   },
   "outputs": [],
   "source": [
    "### Create the plot that represents the relation between Size (Mb) and density\n",
    "# Is it what you expected?"
   ]
  },
  {
   "cell_type": "markdown",
   "metadata": {
    "id": "jI7OyOVrl7AG"
   },
   "source": [
    "## Seaborn\n",
    "These are other `kind` plots that we did not try in lectures. Look up seaborn documentation and try to create these new plots.\n",
    "\n",
    "1.   Create a violin plot for genome size distribution against Class Land Plants.\n",
    "2.   Create a scatter plot showing the relationship between Kingdom and Publication year\n",
    "3. Create a bar plot for GC% for each Kingdom"
   ]
  },
  {
   "cell_type": "code",
   "execution_count": null,
   "metadata": {
    "id": "YdZbDsSMnQMn"
   },
   "outputs": [],
   "source": [
    "### Your code - Create a violin plot for genome size distribution against Class Land Plants.\n"
   ]
  },
  {
   "cell_type": "code",
   "execution_count": null,
   "metadata": {
    "id": "Tc1sRZl6nVug"
   },
   "outputs": [],
   "source": [
    "### Your code - Create a scatter plot showing the relationship between Kingdom and Publication year\n"
   ]
  },
  {
   "cell_type": "code",
   "execution_count": null,
   "metadata": {
    "id": "GBtDWnaEnZfY"
   },
   "outputs": [],
   "source": [
    "### Your code - Create a bar plot for GC% for each Kingdom"
   ]
  }
 ],
 "metadata": {
  "colab": {
   "provenance": []
  },
  "hide_input": false,
  "kernelspec": {
   "display_name": "Python 3 (ipykernel)",
   "language": "python",
   "name": "python3"
  },
  "language_info": {
   "codemirror_mode": {
    "name": "ipython",
    "version": 3
   },
   "file_extension": ".py",
   "mimetype": "text/x-python",
   "name": "python",
   "nbconvert_exporter": "python",
   "pygments_lexer": "ipython3",
   "version": "3.11.4"
  },
  "toc": {
   "base_numbering": 1,
   "nav_menu": {},
   "number_sections": true,
   "sideBar": true,
   "skip_h1_title": false,
   "title_cell": "Table of Contents",
   "title_sidebar": "Contents",
   "toc_cell": false,
   "toc_position": {},
   "toc_section_display": true,
   "toc_window_display": false
  }
 },
 "nbformat": 4,
 "nbformat_minor": 4
}
