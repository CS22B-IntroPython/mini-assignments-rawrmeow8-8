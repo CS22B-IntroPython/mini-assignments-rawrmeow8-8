{
 "cells": [
  {
   "cell_type": "markdown",
   "metadata": {
    "id": "XXueMou6e2fW"
   },
   "source": [
    "# Data Exploration with Pandas\n",
    "<table><tr><td>\n",
    "<img src=\"https://resizing.flixster.com/Grjhpv0wcwgi-uhfaC3QM8KFglY=/ems.cHJkLWVtcy1hc3NldHMvbW92aWVzLzdmOWE4MWFiLWVlOWMtNDA4Mi05OTA0LTRiNjMxNTEwMzk1MC5qcGc=\" height=300><a href=\"https://resizing.flixster.com/Grjhpv0wcwgi-uhfaC3QM8KFglY=/ems.cHJkLWVtcy1hc3NldHMvbW92aWVzLzdmOWE4MWFiLWVlOWMtNDA4Mi05OTA0LTRiNjMxNTEwMzk1MC5qcGc=\">source</a></td><td><img src=\"https://encrypted-tbn2.gstatic.com/images?q=tbn:ANd9GcRQCHfe9VV3K3Efxv5PYQ_6NYpB20WkKS1zW21UEUmhW1lalECnbwTH3nwQL8XprEMTUCtPeA\" height=300><a href=\"https://encrypted-tbn2.gstatic.com/images?q=tbn:ANd9GcRQCHfe9VV3K3Efxv5PYQ_6NYpB20WkKS1zW21UEUmhW1lalECnbwTH3nwQL8XprEMTUCtPeA\">source</a></td></tr></table>"
   ]
  },
  {
   "cell_type": "code",
   "execution_count": 3,
   "metadata": {
    "id": "hyL8ePRTe2fa"
   },
   "outputs": [
    {
     "ename": "ModuleNotFoundError",
     "evalue": "No module named 'pandas'",
     "output_type": "error",
     "traceback": [
      "\u001b[1;31m---------------------------------------------------------------------------\u001b[0m",
      "\u001b[1;31mModuleNotFoundError\u001b[0m                       Traceback (most recent call last)",
      "Cell \u001b[1;32mIn[3], line 2\u001b[0m\n\u001b[0;32m      1\u001b[0m \u001b[38;5;66;03m# importing the package(s) we want to use\u001b[39;00m\n\u001b[1;32m----> 2\u001b[0m \u001b[38;5;28;01mimport\u001b[39;00m \u001b[38;5;21;01mpandas\u001b[39;00m \u001b[38;5;28;01mas\u001b[39;00m \u001b[38;5;21;01mpd\u001b[39;00m\n",
      "\u001b[1;31mModuleNotFoundError\u001b[0m: No module named 'pandas'"
     ]
    }
   ],
   "source": [
    "# importing the package(s) we want to use\n",
    "import pandas as pd"
   ]
  },
  {
   "cell_type": "markdown",
   "metadata": {
    "id": "6PdpBU4Ce2fi"
   },
   "source": [
    "### Let's explore the movies data set more! ###\n",
    "We'll use the `pd.read_csv()` function to read the csv file into a DataFrame."
   ]
  },
  {
   "cell_type": "code",
   "execution_count": 4,
   "metadata": {
    "colab": {
     "base_uri": "https://localhost:8080/",
     "height": 206
    },
    "id": "HlU8VYjYe2fi",
    "outputId": "5e207edf-1124-4812-f69c-8ea64ac99a4f"
   },
   "outputs": [
    {
     "ename": "NameError",
     "evalue": "name 'pd' is not defined",
     "output_type": "error",
     "traceback": [
      "\u001b[1;31m---------------------------------------------------------------------------\u001b[0m",
      "\u001b[1;31mNameError\u001b[0m                                 Traceback (most recent call last)",
      "Cell \u001b[1;32mIn[4], line 3\u001b[0m\n\u001b[0;32m      1\u001b[0m csvFile \u001b[38;5;241m=\u001b[39m \u001b[38;5;124m'\u001b[39m\u001b[38;5;124mhttps://raw.githubusercontent.com/csbfx/advpy122-data/master/top_movies_2020.csv\u001b[39m\u001b[38;5;124m'\u001b[39m\n\u001b[1;32m----> 3\u001b[0m movies \u001b[38;5;241m=\u001b[39m \u001b[43mpd\u001b[49m\u001b[38;5;241m.\u001b[39mread_csv(csvFile)\n\u001b[0;32m      4\u001b[0m movies\u001b[38;5;241m.\u001b[39mhead()\n",
      "\u001b[1;31mNameError\u001b[0m: name 'pd' is not defined"
     ]
    }
   ],
   "source": [
    "csvFile = 'https://raw.githubusercontent.com/csbfx/advpy122-data/master/top_movies_2020.csv'\n",
    "\n",
    "movies = pd.read_csv(csvFile)\n",
    "movies.head()"
   ]
  },
  {
   "cell_type": "markdown",
   "metadata": {
    "id": "of1jJGGAJ6_G"
   },
   "source": [
    "### Initial data exploration"
   ]
  },
  {
   "cell_type": "markdown",
   "metadata": {
    "id": "3wyNMxsme2fj"
   },
   "source": [
    "We can examine the contents of the resultant DataFrame using the `head()` and `tail()` commands:"
   ]
  },
  {
   "cell_type": "code",
   "execution_count": null,
   "metadata": {
    "id": "cp8cgjyse2fj"
   },
   "outputs": [],
   "source": [
    "### Take a look at the top 3 values of the file\n",
    "movies.head(3)"
   ]
  },
  {
   "cell_type": "code",
   "execution_count": null,
   "metadata": {
    "id": "Op7hgmy7JwaU"
   },
   "outputs": [],
   "source": [
    "### How about the last 5 values of a the file?\n",
    "movies.tail(5)"
   ]
  },
  {
   "cell_type": "markdown",
   "metadata": {
    "id": "L8uiEv0ue2fl"
   },
   "source": [
    "Use the info() method to get a quick description of the dataframe"
   ]
  },
  {
   "cell_type": "code",
   "execution_count": null,
   "metadata": {
    "id": "rYu2xgUme2fl"
   },
   "outputs": [],
   "source": [
    "### Get a quick summary of the data using the info() method\n",
    "movies.info()"
   ]
  },
  {
   "cell_type": "markdown",
   "metadata": {
    "id": "AL-bvKhEZo6K"
   },
   "source": [
    "# Working to filter different elements"
   ]
  },
  {
   "cell_type": "markdown",
   "metadata": {
    "id": "VU4n-R0ypGwy"
   },
   "source": [
    "Using iloc and loc to extract specific rows and columns"
   ]
  },
  {
   "cell_type": "code",
   "execution_count": null,
   "metadata": {
    "id": "ENqPweADZnlC"
   },
   "outputs": [],
   "source": [
    "### Get the first 10 elements (movies) of the second column and convert it into a series with a name\n",
    "gross_series = movies.iloc[:10, 1]\n",
    "print(gross_series)"
   ]
  },
  {
   "cell_type": "code",
   "execution_count": null,
   "metadata": {
    "id": "kRy9tINCEYoh"
   },
   "outputs": [],
   "source": [
    "### Get the names of the first 10 movies and convert it into a series and give it type string\n",
    "movie_names = movies['Title'].iloc[:10].astype(str)\n",
    "print(movie_names)"
   ]
  },
  {
   "cell_type": "code",
   "execution_count": null,
   "metadata": {
    "id": "i2B4YKO0F1aH"
   },
   "outputs": [],
   "source": [
    "### Create a smaller dataframe with last 20 elements and all columns except 'Year'. Give the columns new custom names (your choice).\n",
    "smaller_df = movies.iloc[-20:].drop(columns=['Year'])\n",
    "smaller_df.columns = ['Movie', 'Gross', 'Gross_adj']  # Rename columns\n",
    "print(smaller_df)"
   ]
  },
  {
   "cell_type": "markdown",
   "metadata": {
    "id": "QK9I_3ripSwv"
   },
   "source": [
    "Subsetting the dataframe based on conditions"
   ]
  },
  {
   "cell_type": "code",
   "execution_count": null,
   "metadata": {
    "id": "TdIg-TSgoqzL"
   },
   "outputs": [],
   "source": [
    "### Create a smaller dataframe with movies made in the year 2000s\n",
    "movies_2000s = movies[movies['Year'].between(2000, 2009)]\n",
    "print(movies_2000s)"
   ]
  },
  {
   "cell_type": "code",
   "execution_count": null,
   "metadata": {
    "id": "Tf3HYCn5JDB8"
   },
   "outputs": [],
   "source": [
    "### How many movies Gross (use 'Gross (Adjusted)') over 1,500,000,000?\n",
    "high_gross_movies = movies[movies['Gross (Adjusted)'] > 1500000000]\n",
    "print(len(high_gross_movies))"
   ]
  },
  {
   "cell_type": "markdown",
   "metadata": {
    "id": "dg7NUNTCpbSU"
   },
   "source": [
    "Customizing the dataframe"
   ]
  },
  {
   "cell_type": "code",
   "execution_count": null,
   "metadata": {
    "id": "jLeVnvOtplcU"
   },
   "outputs": [],
   "source": [
    "### Use DataFrame.columns to change the column name to 'Movie','Gross', 'Gross_adj', and 'Year'\n",
    "movies.columns = ['Movie', 'Gross', 'Gross_adj', 'Year']\n",
    "movies.set_index('Movie', inplace=True)\n",
    "print(movies.head())"
   ]
  },
  {
   "cell_type": "code",
   "execution_count": null,
   "metadata": {
    "id": "GOrFVLT4IgBH"
   },
   "outputs": [],
   "source": [
    "### Set the 'Movies' column as the index\n"
   ]
  },
  {
   "cell_type": "markdown",
   "metadata": {
    "id": "qwl2u9Bppmn1"
   },
   "source": [
    "Getting some statistic about the data"
   ]
  },
  {
   "cell_type": "code",
   "execution_count": null,
   "metadata": {
    "id": "00o1Bumept8i"
   },
   "outputs": [],
   "source": [
    "### Get some statistical information about the 'Gross' column\n",
    "gross_stats = movies['Gross'].describe()\n",
    "print(gross_stats)"
   ]
  },
  {
   "cell_type": "code",
   "execution_count": null,
   "metadata": {
    "id": "46hKwDutp0yD"
   },
   "outputs": [],
   "source": [
    "### What is the average 'Gross (Adjusted)' value for Movies from the 1990s?\n",
    "movies_1990s = movies[movies['Year'].between(1990, 1999)]\n",
    "average_gross_1990s = movies_1990s['Gross (Adjusted)'].mean()\n",
    "print(f\"Average Gross (Adjusted) for movies from the 1990s: {average_gross_1990s}\")"
   ]
  },
  {
   "cell_type": "code",
   "execution_count": null,
   "metadata": {
    "id": "eg4AevDxF0_T"
   },
   "outputs": [],
   "source": [
    "### What is the standard deviation of 'Gross (Adjusted)'?\n",
    "std_dev_gross = movies['Gross (Adjusted)'].std()\n",
    "print(f\"Standard deviation of Gross (Adjusted): {std_dev_gross}\")\n"
   ]
  },
  {
   "cell_type": "code",
   "execution_count": null,
   "metadata": {},
   "outputs": [],
   "source": []
  }
 ],
 "metadata": {
  "colab": {
   "provenance": []
  },
  "hide_input": false,
  "kernelspec": {
   "display_name": "Python 3 (ipykernel)",
   "language": "python",
   "name": "python3"
  },
  "language_info": {
   "codemirror_mode": {
    "name": "ipython",
    "version": 3
   },
   "file_extension": ".py",
   "mimetype": "text/x-python",
   "name": "python",
   "nbconvert_exporter": "python",
   "pygments_lexer": "ipython3",
   "version": "3.11.4"
  },
  "toc": {
   "base_numbering": 1,
   "nav_menu": {},
   "number_sections": true,
   "sideBar": true,
   "skip_h1_title": false,
   "title_cell": "Table of Contents",
   "title_sidebar": "Contents",
   "toc_cell": false,
   "toc_position": {},
   "toc_section_display": true,
   "toc_window_display": false
  }
 },
 "nbformat": 4,
 "nbformat_minor": 4
}
